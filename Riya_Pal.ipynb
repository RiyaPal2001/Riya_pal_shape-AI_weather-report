{
  "nbformat": 4,
  "nbformat_minor": 0,
  "metadata": {
    "colab": {
      "name": "Riya_Pal",
      "provenance": [],
      "collapsed_sections": []
    },
    "kernelspec": {
      "name": "python3",
      "display_name": "Python 3"
    },
    "language_info": {
      "name": "python"
    }
  },
  "cells": [
    {
      "cell_type": "code",
      "metadata": {
        "id": "U2oyQZr_I0wd",
        "colab": {
          "base_uri": "https://localhost:8080/"
        },
        "outputId": "20bbd98c-7293-4140-cc59-577a13793110"
      },
      "source": [
        "import os\n",
        "import requests\n",
        "from datetime import datetime\n",
        "save_path=(\"C:/example/\")\n",
        "api_key='35c8b46cc95bdf8c1aaa91cc45c411f8'\n",
        "location=input(\"Enter the city name:\")\n",
        "complete_api_link=\"https://api.openweathermap.org/data/2.5/weather?q=\"+location+\"&appid=\"+api_key\n",
        "api_link=requests.get(complete_api_link)\n",
        "api_data=api_link.json()\n",
        "temp_city=((api_data['main']['temp']) -273.15)\n",
        "weather_desc=api_data['weather'][0]['description']\n",
        "hmdt=api_data['main']['humidity']\n",
        "wind_spd=api_data['wind']['speed']\n",
        "date_time=datetime.now().strftime(\"%d %b %y | %I:%M:%S %p\")\n",
        "print(\"---------------------------------------\")\n",
        "print(\"Weather Stats for - {} || {}\".format(location.upper(),date_time))\n",
        "print(\"---------------------------------------\")\n",
        "print(\"Current temp. is: {:.2f}deg C\".format(temp_city))\n",
        "print(\"Current weather desc: \",weather_desc)\n",
        "print(\"Current humidity: \",hmdt, '%')\n",
        "print(\"Current wind speed: \",wind_spd,'kmph')\n",
        "WEATHER_REPORT=\"Location is {}, Date and Time is {}, Temp. of the city is {}, Current weather description is {}, Humidity is {} %, Wind speed is {}\".format(location.upper(),date_time,temp_city,weather_desc,hmdt,wind_spd)\n",
        "file=open(\"current_weather_report.txt\",\"w\")\n",
        "file.write(WEATHER_REPORT)\n",
        "file.close()\n"
      ],
      "execution_count": 5,
      "outputs": [
        {
          "output_type": "stream",
          "text": [
            "Enter the city name:kolkata\n",
            "---------------------------------------\n",
            "Weather Stats for - KOLKATA || 23 Jun 21 | 05:42:22 AM\n",
            "---------------------------------------\n",
            "Current temp. is: 32.97deg C\n",
            "Current weather desc:  haze\n",
            "Current humidity:  79 %\n",
            "Current wind speed:  3.09 kmph\n"
          ],
          "name": "stdout"
        }
      ]
    }
  ]
}